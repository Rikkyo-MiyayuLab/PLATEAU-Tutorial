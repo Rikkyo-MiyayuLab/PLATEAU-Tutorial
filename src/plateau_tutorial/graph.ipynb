{
 "cells": [
  {
   "cell_type": "code",
   "execution_count": 7,
   "metadata": {},
   "outputs": [],
   "source": [
    "import pandas as pd\n",
    "import seaborn as sns\n",
    "import matplotlib.pyplot as plt\n",
    "import os\n",
    "import pandas as pd\n",
    "import glob\n",
    "import re"
   ]
  },
  {
   "cell_type": "code",
   "execution_count": null,
   "metadata": {},
   "outputs": [],
   "source": [
    "# NOTE : ここに解析したいデータのフォルダを指定してください\n",
    "FOLDER_PATH = \"../../PLATEAUTutorial/Assets/2025_01_29-19_55_38\""
   ]
  },
  {
   "cell_type": "code",
   "execution_count": null,
   "metadata": {},
   "outputs": [],
   "source": [
    "# csvファイルを読み込む\n",
    "csv_paths = glob.glob(os.path.join(FOLDER_PATH, \"*.csv\"))\n",
    "dfs = []\n",
    "\n",
    "for path in csv_paths:\n",
    "    match = re.search(r\"Episode_(\\d+)\", path)\n",
    "    if match:\n",
    "        episode_num = int(match.group(1))\n",
    "        df = pd.read_csv(path)\n",
    "        df[\"episode\"] = episode_num\n",
    "        dfs.append(df)\n",
    "    else:\n",
    "        print(f\"no match: {path}\")\n",
    "\n",
    "merged_df = pd.concat(dfs, ignore_index=True)\n",
    "merged_df"
   ]
  },
  {
   "cell_type": "code",
   "execution_count": null,
   "metadata": {},
   "outputs": [],
   "source": [
    "# 単位時間ごとの避難率可視化\n",
    "plt.figure(figsize=(12, 6))\n",
    "sns.lineplot(data=merged_df, x='Time', y='EvacuationRate', hue='episode', palette='tab10')\n",
    "plt.title('Evacuation Rate Over Time by Episode')\n",
    "plt.xlabel('Time')\n",
    "plt.ylabel('Evacuation Rate')\n",
    "plt.legend(title='Episode')\n",
    "plt.show()"
   ]
  }
 ],
 "metadata": {
  "kernelspec": {
   "display_name": ".venv",
   "language": "python",
   "name": "python3"
  },
  "language_info": {
   "codemirror_mode": {
    "name": "ipython",
    "version": 3
   },
   "file_extension": ".py",
   "mimetype": "text/x-python",
   "name": "python",
   "nbconvert_exporter": "python",
   "pygments_lexer": "ipython3",
   "version": "3.10.12"
  }
 },
 "nbformat": 4,
 "nbformat_minor": 2
}
